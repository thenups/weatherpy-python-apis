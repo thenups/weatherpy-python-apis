{
 "cells": [
  {
   "cell_type": "markdown",
   "metadata": {},
   "source": [
    "# WeatherPy"
   ]
  },
  {
   "cell_type": "markdown",
   "metadata": {},
   "source": [
    "### Analysis\n",
    "- d \n",
    "- d\n",
    "- d"
   ]
  },
  {
   "cell_type": "code",
   "execution_count": 3,
   "metadata": {},
   "outputs": [],
   "source": [
    "# Dependencies\n",
    "import random\n",
    "\n",
    "import json\n",
    "import urllib\n",
    "import gzip\n",
    "import requests as req\n",
    "\n",
    "import pandas as pd\n",
    "from citipy import citipy\n",
    "import matplotlib.pyplot as plt\n",
    "import numpy as np\n",
    "import seaborn as sns\n",
    "\n",
    "# Create url, api key, and units\n",
    "url = 'http://api.openweathermap.org/data/2.5/weather?'\n",
    "apiKey = '25bc90a1196e6f153eece0bc0b0fc9eb'\n",
    "unit = 'imperial'\n",
    "\n",
    "# Write function to print a visual line break\n",
    "def breaker():\n",
    "    print('---------------------------------')"
   ]
  },
  {
   "cell_type": "markdown",
   "metadata": {},
   "source": [
    "## Generate Cities List"
   ]
  },
  {
   "cell_type": "code",
   "execution_count": 4,
   "metadata": {},
   "outputs": [
    {
     "data": {
      "text/plain": [
       "600"
      ]
     },
     "execution_count": 4,
     "metadata": {},
     "output_type": "execute_result"
    }
   ],
   "source": [
    "owmCityJson = 'http://bulk.openweathermap.org/sample/city.list.json.gz'\n",
    "owmCityList = [] #Open Weather Map's list of cities\n",
    "sampleCities = [] #Sample cities\n",
    "sampleSize = 600\n",
    "\n",
    "\n",
    "# Unzip Open Weather Map list of cities\n",
    "with gzip.open(urllib.request.urlopen(owmCityJson)) as f: #unzip file from URL\n",
    "    owmCities = json.load(f) #load json\n",
    "    \n",
    "    # For each city, append the name and country to a list as a tuple\n",
    "    for city in owmCities: \n",
    "        owmCityList.append((city['name'].lower(),city['country'].lower()))\n",
    "\n",
    "# Create sample of cities\n",
    "for c in range(sampleSize):\n",
    "    \n",
    "    uniqueCities = True\n",
    "    \n",
    "    # While every city is unique in the list\n",
    "    while uniqueCities:\n",
    "        \n",
    "        # Find nearest city to randomly generated lat/long\n",
    "        city = citipy.nearest_city(random.uniform(-90,90),random.uniform(-180,180)) #randomly select lat/long\n",
    "        # Create list of tuples with city name and country\n",
    "        sampleCities.append((city.city_name, city.country_code))\n",
    "        uniqueCities = False #stop loop\n",
    "        \n",
    "        # If the length of sample cities isn't equal to the uniques only length\n",
    "        # OR the city is not in the Open Weather Map's list of cities\n",
    "        if len(sampleCities) != len(set(sampleCities)) or sampleCities[c] not in owmCityList:\n",
    "            sampleCities.pop() #remove entry\n",
    "            uniqueCities = True #go through loop again to generate new city\n",
    "\n",
    "# Print the length of cities sampled\n",
    "len(sampleCities)"
   ]
  },
  {
   "cell_type": "markdown",
   "metadata": {},
   "source": [
    "## Perform API Calls"
   ]
  },
  {
   "cell_type": "code",
   "execution_count": null,
   "metadata": {},
   "outputs": [],
   "source": [
    "count = 1 #count for printout\n",
    "l = len(sampleCities) #length of sample cities\n",
    "missing = 0 #placeholder for how many records won't be read properly\n",
    "cityDet = [] #list for city details\n",
    "\n",
    "print('Beginning Data Retrieval')\n",
    "breaker()\n",
    "\n",
    "# Create function to \n",
    "for city in sampleCities:\n",
    "    \n",
    "    # Compile query URL\n",
    "    queryURL = '{}appid={}&q={},{}&units={}'.format(url,apiKey,city[0].replace(' ','+'),city[1],unit)\n",
    "    # Read to a json\n",
    "    weather = req.get(queryURL).json()\n",
    "    \n",
    "    # If there is a record of the city\n",
    "    try:\n",
    "        # Create a tuple of city details\n",
    "        cityDet.append((weather['id'],\n",
    "                        weather['name'],\n",
    "                        weather['sys']['country'],\n",
    "                        weather['coord']['lon'],\n",
    "                        weather['coord']['lat'],\n",
    "                        weather['main']['temp_max'],\n",
    "                        weather['main']['humidity'],\n",
    "                        weather['clouds']['all'],\n",
    "                        weather['wind']['speed']))\n",
    "        print('Processing Record {} of {} | {}, {}'.format(count,l,city[0],city[1]))\n",
    "        print(queryURL)\n",
    "        count += 1\n",
    "    \n",
    "    # If there is no record of that city\n",
    "    except KeyError:\n",
    "        print('Processing Record {} of {} | {}, {}'.format(count,l,city[0],city[1]))\n",
    "        print('---This record cannot be found---')\n",
    "        missing += 1\n",
    "\n",
    "# End\n",
    "breaker()\n",
    "print('Data Retrieval Complete')\n",
    "print('{} record(s) could not be found during retreival'.format(missing))\n",
    "breaker()   \n",
    "    \n",
    "\n",
    "    "
   ]
  },
  {
   "cell_type": "code",
   "execution_count": null,
   "metadata": {},
   "outputs": [],
   "source": [
    "# Display city DataFrame\n",
    "cityDetails = pd.DataFrame(cityDet,\n",
    "                  columns=['ID','City','Country','Longitude','Latitude','Max Temperature (F)','Humidity','Cloudiness','Wind Speed (mph)'])\n",
    "cityDetails.head()"
   ]
  },
  {
   "cell_type": "code",
   "execution_count": null,
   "metadata": {},
   "outputs": [],
   "source": [
    "def createLatitudeScatterPlot(y):\n",
    "    ysplit = y.split(' (')\n",
    "    title = 'City Latitude v. {}'.format(ysplit[0])\n",
    "    \n",
    "    plt.scatter(cityDetails['Latitude'],cityDetails[y])\n",
    "    plt.title(title)\n",
    "    plt.xlabel('Latitude')\n",
    "    plt.ylabel(y)\n",
    "    plt.show()\n",
    "    \n",
    "    fig = plt.figure()\n",
    "    fig.savefig('{}.png'.format(title))"
   ]
  },
  {
   "cell_type": "markdown",
   "metadata": {},
   "source": [
    "## Latitude v. Temperature Plot"
   ]
  },
  {
   "cell_type": "code",
   "execution_count": null,
   "metadata": {},
   "outputs": [],
   "source": [
    "createLatitudeScatterPlot('Max Temperature (F)')"
   ]
  },
  {
   "cell_type": "markdown",
   "metadata": {},
   "source": [
    "## Latitude v. Humidity Plot"
   ]
  },
  {
   "cell_type": "code",
   "execution_count": null,
   "metadata": {},
   "outputs": [],
   "source": [
    "createLatitudeScatterPlot('Humidity')"
   ]
  },
  {
   "cell_type": "markdown",
   "metadata": {},
   "source": [
    "## Latitude v. Cloudiness Plot"
   ]
  },
  {
   "cell_type": "code",
   "execution_count": null,
   "metadata": {},
   "outputs": [],
   "source": [
    "createLatitudeScatterPlot('Cloudiness')"
   ]
  },
  {
   "cell_type": "markdown",
   "metadata": {},
   "source": [
    "## Latitude v. Wind Speed Plot"
   ]
  },
  {
   "cell_type": "code",
   "execution_count": null,
   "metadata": {},
   "outputs": [],
   "source": [
    "createLatitudeScatterPlot('Wind Speed (mph)')"
   ]
  },
  {
   "cell_type": "code",
   "execution_count": null,
   "metadata": {
    "collapsed": true
   },
   "outputs": [],
   "source": []
  }
 ],
 "metadata": {
  "kernelspec": {
   "display_name": "Python 3",
   "language": "python",
   "name": "python3"
  },
  "language_info": {
   "codemirror_mode": {
    "name": "ipython",
    "version": 3
   },
   "file_extension": ".py",
   "mimetype": "text/x-python",
   "name": "python",
   "nbconvert_exporter": "python",
   "pygments_lexer": "ipython3",
   "version": "3.6.1"
  }
 },
 "nbformat": 4,
 "nbformat_minor": 2
}
